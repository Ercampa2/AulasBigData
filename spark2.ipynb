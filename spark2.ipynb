{
  "nbformat": 4,
  "nbformat_minor": 0,
  "metadata": {
    "colab": {
      "provenance": [],
      "authorship_tag": "ABX9TyMU/q83dknjBBy01QIOktX3",
      "include_colab_link": true
    },
    "kernelspec": {
      "name": "python3",
      "display_name": "Python 3"
    },
    "language_info": {
      "name": "python"
    }
  },
  "cells": [
    {
      "cell_type": "markdown",
      "metadata": {
        "id": "view-in-github",
        "colab_type": "text"
      },
      "source": [
        "<a href=\"https://colab.research.google.com/github/Ercampa2/AulasBigData/blob/main/spark2.ipynb\" target=\"_parent\"><img src=\"https://colab.research.google.com/assets/colab-badge.svg\" alt=\"Open In Colab\"/></a>"
      ]
    },
    {
      "cell_type": "code",
      "execution_count": 1,
      "metadata": {
        "colab": {
          "base_uri": "https://localhost:8080/"
        },
        "id": "cYnUCHmyFsGE",
        "outputId": "1314f6d6-2e1d-4dc6-a5a4-06b00ea9419e"
      },
      "outputs": [
        {
          "output_type": "stream",
          "name": "stdout",
          "text": [
            "Looking in indexes: https://pypi.org/simple, https://us-python.pkg.dev/colab-wheels/public/simple/\n",
            "Collecting pyspark\n",
            "  Downloading pyspark-3.4.0.tar.gz (310.8 MB)\n",
            "\u001b[2K     \u001b[90m━━━━━━━━━━━━━━━━━━━━━━━━━━━━━━━━━━━━━━━\u001b[0m \u001b[32m310.8/310.8 MB\u001b[0m \u001b[31m3.5 MB/s\u001b[0m eta \u001b[36m0:00:00\u001b[0m\n",
            "\u001b[?25h  Preparing metadata (setup.py) ... \u001b[?25l\u001b[?25hdone\n",
            "Requirement already satisfied: py4j==0.10.9.7 in /usr/local/lib/python3.10/dist-packages (from pyspark) (0.10.9.7)\n",
            "Building wheels for collected packages: pyspark\n",
            "  Building wheel for pyspark (setup.py) ... \u001b[?25l\u001b[?25hdone\n",
            "  Created wheel for pyspark: filename=pyspark-3.4.0-py2.py3-none-any.whl size=311317130 sha256=dec77cf94032bb72ca91c81580c5e0420eb8730a1714a3304a4535e7623ee18e\n",
            "  Stored in directory: /root/.cache/pip/wheels/7b/1b/4b/3363a1d04368e7ff0d408e57ff57966fcdf00583774e761327\n",
            "Successfully built pyspark\n",
            "Installing collected packages: pyspark\n",
            "Successfully installed pyspark-3.4.0\n"
          ]
        }
      ],
      "source": [
        "!pip install pyspark"
      ]
    },
    {
      "cell_type": "code",
      "source": [
        "import pyspark\n",
        "from pyspark.sql import SparkSession\n",
        "\n",
        "spark = SparkSession.builder.master('local[*]').appName(\"enzo\").getOrCreate()\n",
        "\n",
        "sc = spark.sparkContext"
      ],
      "metadata": {
        "id": "xxN0uRWKFxNt"
      },
      "execution_count": 3,
      "outputs": []
    },
    {
      "cell_type": "code",
      "source": [
        "!wget https://jpbarddal.github.io/assets/data/bigdata/airports.csv"
      ],
      "metadata": {
        "id": "ftulkwJ1JlHy"
      },
      "execution_count": null,
      "outputs": []
    },
    {
      "cell_type": "code",
      "source": [
        "rdd = sc.textFile(\"airports.csv\")\n",
        "pairRdd = rdd.map(lambda x: (x.split(\",\")[3], x.split(\",\")[2]))\n",
        "rdd_colunas = rdd.map(lambda x: x.split(\",\"))"
      ],
      "metadata": {
        "id": "nPOPrRgkJoW2"
      },
      "execution_count": 26,
      "outputs": []
    },
    {
      "cell_type": "code",
      "source": [
        "def build_tuples(s):\n",
        "  vals = s.split(',')\n",
        "  return (vals[0], vals[1])"
      ],
      "metadata": {
        "id": "I6jFV-BlJyZk"
      },
      "execution_count": 10,
      "outputs": []
    },
    {
      "cell_type": "code",
      "source": [
        "#@title Hidden\n",
        "#l =[(\"enzo\", 2002), (\"sla\", 2000), (\"sla2\", 1998)]\n",
        "\n",
        "#prdd = sc.parallelize(l)"
      ],
      "metadata": {
        "cellView": "form",
        "id": "yy6jC4RrF9co"
      },
      "execution_count": 20,
      "outputs": []
    },
    {
      "cell_type": "code",
      "source": [
        "#@title Hidden\n",
        "#l = [\"Enzo,2002\", \"Jean,1992\"]\n",
        "\n",
        "#rdd = sc.parallelize(l)\n",
        "#pairRdd = rdd.map(build_tuples)"
      ],
      "metadata": {
        "cellView": "form",
        "id": "FrCDmvOSISan"
      },
      "execution_count": 14,
      "outputs": []
    },
    {
      "cell_type": "code",
      "source": [
        "#@title Map values\n",
        "pairRddU = pairRdd.map(lambda x: (x[0].upper(), x[1]))\n",
        "pairRddAU = pairRddU.mapValues(lambda x: x.upper())\n",
        "pairRddAU.take(5)"
      ],
      "metadata": {
        "cellView": "form",
        "id": "9D_zScQOK3TF"
      },
      "execution_count": null,
      "outputs": []
    },
    {
      "cell_type": "code",
      "source": [
        "#@title Reduce by Key & Sort\n",
        "#1-Quantos aeroportos temos em cada país\n",
        "\n",
        "contRdd = rdd.map(lambda l: (l.split(\",\")[3], 1))\n",
        "contagemRdd = contRdd.reduceByKey(lambda x, y: x + y)\n",
        "\n",
        "sortRdd = contagemRdd.sortBy(lambda x: x[1], ascending=False)\n",
        "\n",
        "sortRdd.take(10)"
      ],
      "metadata": {
        "cellView": "form",
        "id": "lpTe2NtiMvJg"
      },
      "execution_count": null,
      "outputs": []
    },
    {
      "cell_type": "code",
      "source": [
        "#@title Texto de título padrão\n",
        "#2-Qual a latitude média dos aeroportos em cada país\n",
        "pRdd = rdd.map(lambda x: (x.split(\",\")[3], (float(x.split(\",\")[6]), 1)))\n",
        "\n",
        "sRdd = pRdd.reduceByKey(lambda x, y: (x[0] + y[0], x[1] + y[1]))\n",
        "\n",
        "mRdd = sRdd.mapValues(lambda x: x[0]/x[1])\n",
        "\n",
        "mRdd.take(4)"
      ],
      "metadata": {
        "colab": {
          "base_uri": "https://localhost:8080/"
        },
        "id": "6ANVV-5HRILK",
        "outputId": "f9e397b9-e2e2-4ad0-b29a-a95a45ceb370"
      },
      "execution_count": 48,
      "outputs": [
        {
          "output_type": "execute_result",
          "data": {
            "text/plain": [
              "[('Iceland', 65.24886109090909),\n",
              " ('Algeria', 32.74818593181818),\n",
              " ('Ghana', 7.369581),\n",
              " (\"Cote d'Ivoire\", 6.871732857142858)]"
            ]
          },
          "metadata": {},
          "execution_count": 48
        }
      ]
    }
  ]
}