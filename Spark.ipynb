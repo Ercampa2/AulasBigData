{
  "nbformat": 4,
  "nbformat_minor": 0,
  "metadata": {
    "colab": {
      "provenance": [],
      "authorship_tag": "ABX9TyOG0bPtpafIsDLdKg4mGs5n",
      "include_colab_link": true
    },
    "kernelspec": {
      "name": "python3",
      "display_name": "Python 3"
    },
    "language_info": {
      "name": "python"
    }
  },
  "cells": [
    {
      "cell_type": "markdown",
      "metadata": {
        "id": "view-in-github",
        "colab_type": "text"
      },
      "source": [
        "<a href=\"https://colab.research.google.com/github/Ercampa2/AulasBigData/blob/main/Spark.ipynb\" target=\"_parent\"><img src=\"https://colab.research.google.com/assets/colab-badge.svg\" alt=\"Open In Colab\"/></a>"
      ]
    },
    {
      "cell_type": "code",
      "execution_count": 1,
      "metadata": {
        "colab": {
          "base_uri": "https://localhost:8080/"
        },
        "id": "uUcvUFJnEQno",
        "outputId": "ccf62660-3a91-45f3-9986-747a6a4948ab"
      },
      "outputs": [
        {
          "output_type": "stream",
          "name": "stdout",
          "text": [
            "Looking in indexes: https://pypi.org/simple, https://us-python.pkg.dev/colab-wheels/public/simple/\n",
            "Collecting pyspark\n",
            "  Downloading pyspark-3.4.0.tar.gz (310.8 MB)\n",
            "\u001b[2K     \u001b[90m━━━━━━━━━━━━━━━━━━━━━━━━━━━━━━━━━━━━━━━\u001b[0m \u001b[32m310.8/310.8 MB\u001b[0m \u001b[31m4.2 MB/s\u001b[0m eta \u001b[36m0:00:00\u001b[0m\n",
            "\u001b[?25h  Preparing metadata (setup.py) ... \u001b[?25l\u001b[?25hdone\n",
            "Requirement already satisfied: py4j==0.10.9.7 in /usr/local/lib/python3.10/dist-packages (from pyspark) (0.10.9.7)\n",
            "Building wheels for collected packages: pyspark\n",
            "  Building wheel for pyspark (setup.py) ... \u001b[?25l\u001b[?25hdone\n",
            "  Created wheel for pyspark: filename=pyspark-3.4.0-py2.py3-none-any.whl size=311317130 sha256=3caf78df42dddd8cdf4b481774804bc758e32cb6b4c1a871743c02c2e9c2f9fe\n",
            "  Stored in directory: /root/.cache/pip/wheels/7b/1b/4b/3363a1d04368e7ff0d408e57ff57966fcdf00583774e761327\n",
            "Successfully built pyspark\n",
            "Installing collected packages: pyspark\n",
            "Successfully installed pyspark-3.4.0\n"
          ]
        }
      ],
      "source": [
        "!pip install pyspark"
      ]
    },
    {
      "cell_type": "code",
      "source": [
        "!wget https://www.ppgia.pucpr.br/~jean.barddal/assets/data/bigdata/bible.txt"
      ],
      "metadata": {
        "colab": {
          "base_uri": "https://localhost:8080/"
        },
        "id": "lqZMm78tFwOV",
        "outputId": "2931f97a-1c97-4eca-ac42-3055ec084762"
      },
      "execution_count": 2,
      "outputs": [
        {
          "output_type": "stream",
          "name": "stdout",
          "text": [
            "--2023-05-11 23:13:44--  https://www.ppgia.pucpr.br/~jean.barddal/assets/data/bigdata/bible.txt\n",
            "Resolving www.ppgia.pucpr.br (www.ppgia.pucpr.br)... 104.18.10.132, 104.18.11.132, 2606:4700::6812:a84, ...\n",
            "Connecting to www.ppgia.pucpr.br (www.ppgia.pucpr.br)|104.18.10.132|:443... connected.\n",
            "HTTP request sent, awaiting response... 200 OK\n",
            "Length: unspecified [text/plain]\n",
            "Saving to: ‘bible.txt’\n",
            "\n",
            "bible.txt               [           <=>      ]   4.25M  93.1KB/s    in 52s     \n",
            "\n",
            "2023-05-11 23:15:07 (83.4 KB/s) - ‘bible.txt’ saved [4451368]\n",
            "\n"
          ]
        }
      ]
    },
    {
      "cell_type": "code",
      "source": [
        "import pyspark\n",
        "from pyspark.sql import SparkSession\n",
        "\n",
        "spark = SparkSession.builder.master('local[*]').appName(\"enzo\").getOrCreate()\n",
        "\n",
        "sc = spark.sparkContext"
      ],
      "metadata": {
        "id": "0y_gx2z9GGxk"
      },
      "execution_count": 3,
      "outputs": []
    },
    {
      "cell_type": "code",
      "source": [
        "#Carregar arquivos\n",
        "rdd = sc.textFile(\"bible.txt\")"
      ],
      "metadata": {
        "id": "M3BNsCgWHlsI"
      },
      "execution_count": 6,
      "outputs": []
    },
    {
      "cell_type": "code",
      "source": [
        "print(rdd)"
      ],
      "metadata": {
        "colab": {
          "base_uri": "https://localhost:8080/"
        },
        "id": "gGYPn1gbIANp",
        "outputId": "62825c94-3d53-402b-ad6a-9060884a1077"
      },
      "execution_count": 7,
      "outputs": [
        {
          "output_type": "stream",
          "name": "stdout",
          "text": [
            "bible.txt MapPartitionsRDD[5] at textFile at NativeMethodAccessorImpl.java:0\n"
          ]
        }
      ]
    },
    {
      "cell_type": "code",
      "source": [
        "rdd.take(5)"
      ],
      "metadata": {
        "colab": {
          "base_uri": "https://localhost:8080/"
        },
        "id": "EfAsQpS1ILj4",
        "outputId": "e91e27ab-1c17-4c68-b16d-35657852c170"
      },
      "execution_count": 8,
      "outputs": [
        {
          "output_type": "execute_result",
          "data": {
            "text/plain": [
              "['1:1 In the beginning God created the heaven and the earth.',\n",
              " '',\n",
              " '1:2 And the earth was without form, and void; and darkness was upon',\n",
              " 'the face of the deep. And the Spirit of God moved upon the face of the',\n",
              " 'waters.']"
            ]
          },
          "metadata": {},
          "execution_count": 8
        }
      ]
    },
    {
      "cell_type": "code",
      "source": [
        "rdd_palavras = rdd.flatMap(lambda x: x.split(\" \"))\n",
        "#rdd_palavras.take(20)\n",
        "\n",
        "rdd_palavras.countByValue()"
      ],
      "metadata": {
        "id": "4FgJd2IQIfyB"
      },
      "execution_count": null,
      "outputs": []
    },
    {
      "cell_type": "code",
      "source": [
        "!wget https://jpbarddal.github.io/assets/data/bigdata/airports.csv"
      ],
      "metadata": {
        "colab": {
          "base_uri": "https://localhost:8080/"
        },
        "id": "xouVyUd-K_pT",
        "outputId": "51bd6d68-0bf3-40a7-fdfd-5b33017f3701"
      },
      "execution_count": 12,
      "outputs": [
        {
          "output_type": "stream",
          "name": "stdout",
          "text": [
            "--2023-05-12 00:21:40--  https://jpbarddal.github.io/assets/data/bigdata/airports.csv\n",
            "Resolving jpbarddal.github.io (jpbarddal.github.io)... 185.199.109.153, 185.199.108.153, 185.199.110.153, ...\n",
            "Connecting to jpbarddal.github.io (jpbarddal.github.io)|185.199.109.153|:443... connected.\n",
            "HTTP request sent, awaiting response... 200 OK\n",
            "Length: 747552 (730K) [text/csv]\n",
            "Saving to: ‘airports.csv’\n",
            "\n",
            "\rairports.csv          0%[                    ]       0  --.-KB/s               \rairports.csv        100%[===================>] 730.03K  --.-KB/s    in 0.05s   \n",
            "\n",
            "2023-05-12 00:21:40 (15.8 MB/s) - ‘airports.csv’ saved [747552/747552]\n",
            "\n"
          ]
        }
      ]
    },
    {
      "cell_type": "code",
      "source": [
        "rdd = sc.textFile(\"airports.csv\")\n",
        "\n",
        "rdd_colunas = rdd.map(lambda x: x.split(\",\"))"
      ],
      "metadata": {
        "id": "Vpn2MruIVcNj"
      },
      "execution_count": null,
      "outputs": []
    },
    {
      "cell_type": "code",
      "source": [
        "#Contem aeroportos no brasil\n",
        "rdd_brasil = rdd.filter(lambda x: x.split(\",\")[3] == \"Brazil\")\n",
        "\n",
        "print(rdd_brasil.count())\n",
        "rdd_brasil.take(5)"
      ],
      "metadata": {
        "colab": {
          "base_uri": "https://localhost:8080/"
        },
        "id": "OAEKDs0rWpr5",
        "outputId": "23d911f0-85e3-4dcf-e7ce-66532b31a9e8"
      },
      "execution_count": 37,
      "outputs": [
        {
          "output_type": "stream",
          "name": "stdout",
          "text": [
            "213\n"
          ]
        },
        {
          "output_type": "execute_result",
          "data": {
            "text/plain": [
              "['2518,Conceicao Do Araguaia,Conceicao Do Araguaia,Brazil,CDJ,SBAA,-8.348347,-49.301528,653,-4,S,America/Boa_Vista',\n",
              " '2519,Campo Delio Jardim De Mattos,Rio De Janeiro,Brazil,,SBAF,-22.875083,-43.384708,110,-3,S,America/Sao_Paulo',\n",
              " '2520,Amapa,Amapa,Brazil,,SBAM,2.077511,-50.858236,45,-3,S,America/Fortaleza',\n",
              " '2521,Araraquara,Araracuara,Brazil,AQA,SBAQ,-21.812,-48.133028,2334,-3,S,America/Sao_Paulo',\n",
              " '2522,Santa Maria,Aracaju,Brazil,AJU,SBAR,-10.984,-37.070333,23,-3,S,America/Fortaleza']"
            ]
          },
          "metadata": {},
          "execution_count": 37
        }
      ]
    },
    {
      "cell_type": "code",
      "source": [
        "rdd_holanda = rdd.filter(lambda x: x.split(\",\")[3] == \"Netherlands\")\n",
        "\n",
        "print(rdd_holanda.count())\n",
        "rdd_holanda.take(5)"
      ],
      "metadata": {
        "colab": {
          "base_uri": "https://localhost:8080/"
        },
        "id": "ak_JxnA7XW6T",
        "outputId": "c7cc6a3a-fdb8-4c2f-ac09-46e2b2f0de4f"
      },
      "execution_count": 24,
      "outputs": [
        {
          "output_type": "stream",
          "name": "stdout",
          "text": [
            "42\n"
          ]
        },
        {
          "output_type": "execute_result",
          "data": {
            "text/plain": [
              "['580,Schiphol,Amsterdam,Netherlands,AMS,EHAM,52.308613,4.763889,-11,1,E,Europe/Amsterdam',\n",
              " '581,Budel,Weert,Netherlands,,EHBD,51.25528,5.601389,114,1,E,Europe/Amsterdam',\n",
              " '582,Maastricht,Maastricht,Netherlands,MST,EHBK,50.911658,5.770144,375,1,E,Europe/Amsterdam',\n",
              " '583,Deelen,Deelen,Netherlands,,EHDL,52.060556,5.873056,158,1,E,Europe/Amsterdam',\n",
              " '584,Drachten,Drachten,Netherlands,,EHDR,53.119167,6.129722,14,1,E,Europe/Amsterdam']"
            ]
          },
          "metadata": {},
          "execution_count": 24
        }
      ]
    },
    {
      "cell_type": "code",
      "source": [
        "rdd_eua = rdd.filter(lambda x: x.split(\",\")[3] == \"United States\")\n",
        "\n",
        "print(rdd_eua.count())\n",
        "rdd_eua.take(5)"
      ],
      "metadata": {
        "colab": {
          "base_uri": "https://localhost:8080/"
        },
        "id": "cgg4jqXiX4ci",
        "outputId": "87e07f1e-82ea-4240-96ac-9afdd956d93f"
      },
      "execution_count": 36,
      "outputs": [
        {
          "output_type": "stream",
          "name": "stdout",
          "text": [
            "1697\n"
          ]
        },
        {
          "output_type": "execute_result",
          "data": {
            "text/plain": [
              "['6891,Putnam County Airport,Greencastle,United States,4I7,\\\\N,39.6335556,-86.8138056,842,-5,U,America/New_York',\n",
              " '6890,Dowagiac Municipal Airport,Dowagiac,United States,C91,\\\\N,41.9929342,-86.1280125,748,-5,U,America/New_York',\n",
              " '6889,Cambridge Municipal Airport,Cambridge,United States,CDI,\\\\N,39.9750278,-81.5775833,799,-5,U,America/New_York',\n",
              " '6885,Door County Cherryland Airport,Sturgeon Bay,United States,SUE,\\\\N,44.8436667,-87.4215556,725,-6,U,America/Chicago',\n",
              " '6884,Shoestring Aviation Airfield,Stewartstown,United States,0P2,\\\\N,39.7948244,-76.6471914,1000,-5,U,America/New_York']"
            ]
          },
          "metadata": {},
          "execution_count": 36
        }
      ]
    },
    {
      "cell_type": "code",
      "source": [
        "#Contem aeroportos em cwb\n",
        "rdd_cwb = rdd.filter(lambda x: x.split(\",\")[2] == \"Curitiba\")\n",
        "\n",
        "print(rdd_cwb.count())\n",
        "rdd_cwb.take(5)"
      ],
      "metadata": {
        "colab": {
          "base_uri": "https://localhost:8080/"
        },
        "id": "Ei5qXoN_YjTY",
        "outputId": "26a61b67-d2aa-4c18-f960-03b29d8feb90"
      },
      "execution_count": 34,
      "outputs": [
        {
          "output_type": "stream",
          "name": "stdout",
          "text": [
            "2\n"
          ]
        },
        {
          "output_type": "execute_result",
          "data": {
            "text/plain": [
              "['2529,Bacacheri,Curitiba,Brazil,BFH,SBBI,-25.405078,-49.232036,3057,-3,S,America/Sao_Paulo',\n",
              " '2545,Afonso Pena,Curitiba,Brazil,CWB,SBCT,-25.528475,-49.175775,2988,-3,S,America/Sao_Paulo']"
            ]
          },
          "metadata": {},
          "execution_count": 34
        }
      ]
    },
    {
      "cell_type": "code",
      "source": [
        "#Latitude media dos aeroportos do brasil\n",
        "rdd_lat = rdd_brasil.map(lambda l: float(l.split(\",\")[6]))\n",
        "\n",
        "rdd_lat.reduce(lambda x, y: x + y) / rdd_lat.count()"
      ],
      "metadata": {
        "colab": {
          "base_uri": "https://localhost:8080/"
        },
        "id": "u3VWsXrjZyQU",
        "outputId": "b8f61315-ff3f-4f07-9f2c-805b279e70b4"
      },
      "execution_count": 45,
      "outputs": [
        {
          "output_type": "execute_result",
          "data": {
            "text/plain": [
              "-14.813483052816906"
            ]
          },
          "metadata": {},
          "execution_count": 45
        }
      ]
    },
    {
      "cell_type": "code",
      "source": [
        "#Aeroportos por país\n",
        "rdd_paises = rdd.map(lambda l: l.split(\",\")[3])\n",
        "\n",
        "rdd_paises.countByValue()"
      ],
      "metadata": {
        "colab": {
          "base_uri": "https://localhost:8080/"
        },
        "id": "dub8ZG1hbzQp",
        "outputId": "2a14204e-13f6-47b4-b3e1-ec41ac1e9447"
      },
      "execution_count": 50,
      "outputs": [
        {
          "output_type": "execute_result",
          "data": {
            "text/plain": [
              "defaultdict(int,\n",
              "            {'Papua New Guinea': 57,\n",
              "             'Greenland': 29,\n",
              "             'Iceland': 22,\n",
              "             'Canada': 435,\n",
              "             'Algeria': 44,\n",
              "             'Benin': 1,\n",
              "             'Burkina Faso': 2,\n",
              "             'Ghana': 6,\n",
              "             \"Cote d'Ivoire\": 7,\n",
              "             'Nigeria': 26,\n",
              "             'Niger': 7,\n",
              "             'Tunisia': 13,\n",
              "             'Togo': 2,\n",
              "             'Belgium': 34,\n",
              "             'Germany': 321,\n",
              "             'United States': 1697,\n",
              "             'Estonia': 9,\n",
              "             'Finland': 51,\n",
              "             'United Kingdom': 210,\n",
              "             'Guernsey': 2,\n",
              "             'Jersey': 1,\n",
              "             'Isle of Man': 1,\n",
              "             'Falkland Islands': 5,\n",
              "             'Netherlands': 42,\n",
              "             'Ireland': 25,\n",
              "             'Denmark': 28,\n",
              "             'Faroe Islands': 3,\n",
              "             'Luxembourg': 1,\n",
              "             'Norway': 69,\n",
              "             'Poland': 34,\n",
              "             'Sweden': 86,\n",
              "             'South Africa': 103,\n",
              "             'Botswana': 29,\n",
              "             'Congo (Brazzaville)': 3,\n",
              "             'Congo (Kinshasa)': 36,\n",
              "             'Swaziland': 1,\n",
              "             'Central African Republic': 3,\n",
              "             'Equatorial Guinea': 2,\n",
              "             'Saint Helena': 1,\n",
              "             'Mauritius': 2,\n",
              "             'British Indian Ocean Territory': 1,\n",
              "             'Cameroon': 10,\n",
              "             'Zambia': 13,\n",
              "             'Comoros': 4,\n",
              "             'Mayotte': 1,\n",
              "             'Reunion': 10,\n",
              "             'Madagascar': 45,\n",
              "             'Angola': 26,\n",
              "             'Puerto Rico': 15,\n",
              "             'Gabon': 14,\n",
              "             'Sao Tome and Principe': 2,\n",
              "             'Mozambique': 22,\n",
              "             'Seychelles': 11,\n",
              "             'Chad': 7,\n",
              "             'Zimbabwe': 16,\n",
              "             'Malawi': 8,\n",
              "             'Lesotho': 3,\n",
              "             'Mali': 8,\n",
              "             'Gambia': 1,\n",
              "             'Spain': 84,\n",
              "             'Sierra Leone': 8,\n",
              "             'Guinea-Bissau': 2,\n",
              "             'Liberia': 3,\n",
              "             'Morocco': 22,\n",
              "             'Senegal': 9,\n",
              "             'Mauritania': 10,\n",
              "             'Guinea': 6,\n",
              "             'Cape Verde': 7,\n",
              "             'Ethiopia': 32,\n",
              "             'Maldives': 42,\n",
              "             'Burundi': 1,\n",
              "             'Somalia': 11,\n",
              "             'Egypt': 25,\n",
              "             'Kenya': 55,\n",
              "             'Libya': 21,\n",
              "             'Rwanda': 3,\n",
              "             'Sudan': 18,\n",
              "             'South Sudan': 2,\n",
              "             'Tanzania': 27,\n",
              "             'Uganda': 9,\n",
              "             'Albania': 1,\n",
              "             'Bulgaria': 7,\n",
              "             'Cyprus': 5,\n",
              "             'Croatia': 14,\n",
              "             'Greece': 60,\n",
              "             'France': 233,\n",
              "             'Saint Pierre and Miquelon': 2,\n",
              "             'Hungary': 15,\n",
              "             'Italy': 92,\n",
              "             'Slovenia': 5,\n",
              "             'Czech Republic': 27,\n",
              "             'Israel': 16,\n",
              "             'Malta': 8,\n",
              "             'Austria': 29,\n",
              "             'Portugal': 39,\n",
              "             'Bosnia and Herzegovina': 4,\n",
              "             'Romania': 26,\n",
              "             'Switzerland': 53,\n",
              "             'Turkey': 77,\n",
              "             'Moldova': 3,\n",
              "             'Macedonia': 2,\n",
              "             'Gibraltar': 1,\n",
              "             'Serbia': 4,\n",
              "             'Montenegro': 2,\n",
              "             'Slovakia': 10,\n",
              "             'Turks and Caicos Islands': 6,\n",
              "             'Dominican Republic': 14,\n",
              "             'Guatemala': 10,\n",
              "             'Honduras': 11,\n",
              "             'Jamaica': 7,\n",
              "             'Mexico': 94,\n",
              "             'Nicaragua': 11,\n",
              "             'Panama': 26,\n",
              "             'Costa Rica': 29,\n",
              "             'El Salvador': 2,\n",
              "             'Haiti': 14,\n",
              "             'Cuba': 30,\n",
              "             'Cayman Islands': 3,\n",
              "             'Bahamas': 37,\n",
              "             'Belize': 12,\n",
              "             'Cook Islands': 8,\n",
              "             'Fiji': 17,\n",
              "             'Tonga': 6,\n",
              "             'Kiribati': 18,\n",
              "             'Australia': 263,\n",
              "             'Wallis and Futuna': 2,\n",
              "             'Samoa': 4,\n",
              "             'American Samoa': 3,\n",
              "             'French Polynesia': 36,\n",
              "             'Vanuatu': 29,\n",
              "             'New Caledonia': 11,\n",
              "             'New Zealand': 56,\n",
              "             'Antarctica': 19,\n",
              "             'Afghanistan': 21,\n",
              "             'Bahrain': 2,\n",
              "             'Saudi Arabia': 42,\n",
              "             'Iran': 81,\n",
              "             'Argentina': 103,\n",
              "             'Jordan': 6,\n",
              "             'West Bank': 1,\n",
              "             'Kuwait': 2,\n",
              "             'Lebanon': 2,\n",
              "             'United Arab Emirates': 19,\n",
              "             'Oman': 6,\n",
              "             'Pakistan': 46,\n",
              "             'Iraq': 10,\n",
              "             'Syria': 6,\n",
              "             'Qatar': 3,\n",
              "             'Northern Mariana Islands': 3,\n",
              "             'Guam': 2,\n",
              "             'Marshall Islands': 32,\n",
              "             'Midway Islands': 1,\n",
              "             'Micronesia': 5,\n",
              "             'Palau': 3,\n",
              "             'Taiwan': 32,\n",
              "             'Japan': 131,\n",
              "             'South Korea': 31,\n",
              "             'Philippines': 64,\n",
              "             'Turkmenistan': 8,\n",
              "             'Brazil': 213,\n",
              "             'Chile': 38,\n",
              "             'Ecuador': 38,\n",
              "             'Paraguay': 8,\n",
              "             'Colombia': 72,\n",
              "             'Bolivia': 27,\n",
              "             'Suriname': 23,\n",
              "             'French Guiana': 22,\n",
              "             'Peru': 43,\n",
              "             'Uruguay': 13,\n",
              "             'Venezuela': 58,\n",
              "             'Guyana': 14,\n",
              "             'Antigua and Barbuda': 2,\n",
              "             'Barbados': 1,\n",
              "             'Dominica': 3,\n",
              "             'Martinique': 4,\n",
              "             'Guadeloupe': 7,\n",
              "             'Grenada': 3,\n",
              "             'Virgin Islands': 8,\n",
              "             'Saint Kitts and Nevis': 3,\n",
              "             'Saint Lucia': 3,\n",
              "             'Aruba': 1,\n",
              "             'Netherlands Antilles': 8,\n",
              "             'Anguilla': 1,\n",
              "             'Trinidad and Tobago': 2,\n",
              "             'British Virgin Islands': 2,\n",
              "             'Saint Vincent and the Grenadines': 5,\n",
              "             'Kazakhstan': 28,\n",
              "             'Kyrgyzstan': 4,\n",
              "             'Azerbaijan': 11,\n",
              "             'Russia': 249,\n",
              "             'Ukraine': 33,\n",
              "             'Belarus': 9,\n",
              "             'Tajikistan': 5,\n",
              "             'Uzbekistan': 12,\n",
              "             'India': 140,\n",
              "             'Sri Lanka': 15,\n",
              "             'Cambodia': 13,\n",
              "             'Bangladesh': 13,\n",
              "             'Hong Kong': 13,\n",
              "             'Laos': 11,\n",
              "             'Macau': 4,\n",
              "             'Nepal': 36,\n",
              "             'Bhutan': 1,\n",
              "             'Thailand': 58,\n",
              "             'Indonesia': 114,\n",
              "             'Vietnam': 30,\n",
              "             'Burma': 43,\n",
              "             'Malaysia': 47,\n",
              "             'Brunei': 3,\n",
              "             'East Timor': 3,\n",
              "             'Singapore': 6,\n",
              "             'Christmas Island': 1,\n",
              "             'Norfolk Island': 1,\n",
              "             'China': 219,\n",
              "             'Korea': 1,\n",
              "             'Mongolia': 13,\n",
              "             'Latvia': 3,\n",
              "             'Lithuania': 8,\n",
              "             'Armenia': 4,\n",
              "             'Eritrea': 3,\n",
              "             'Palestine': 1,\n",
              "             'Yemen': 11,\n",
              "             'Georgia': 5,\n",
              "             'Bermuda': 2,\n",
              "             'Solomon Islands': 27,\n",
              "             'Nauru': 1,\n",
              "             'Tuvalu': 1,\n",
              "             'Namibia': 19,\n",
              "             'Djibouti': 3,\n",
              "             'Montserrat': 2,\n",
              "             'Monaco': 1,\n",
              "             'Johnston Atoll': 1,\n",
              "             'Niue': 1,\n",
              "             'Western Sahara': 3,\n",
              "             'Cocos (Keeling) Islands': 1,\n",
              "             'South Georgia and the Islands': 2,\n",
              "             'Myanmar': 1,\n",
              "             'Svalbard': 4,\n",
              "             'North Korea': 5,\n",
              "             'Wake Island': 1})"
            ]
          },
          "metadata": {},
          "execution_count": 50
        }
      ]
    },
    {
      "cell_type": "code",
      "source": [
        "#Sample\n",
        "rdd = sc.parallelize(range(1,11))\n",
        "rdd_amostra = rdd.sample(withReplacement=True, fraction=1)\n",
        "rdd_amostra.take(10)"
      ],
      "metadata": {
        "colab": {
          "base_uri": "https://localhost:8080/"
        },
        "id": "iQKReIHDd-R7",
        "outputId": "a09295bd-f24a-4321-85f1-124a99db995e"
      },
      "execution_count": 74,
      "outputs": [
        {
          "output_type": "execute_result",
          "data": {
            "text/plain": [
              "[2, 5, 5, 6, 8, 9, 9, 10, 10]"
            ]
          },
          "metadata": {},
          "execution_count": 74
        }
      ]
    },
    {
      "cell_type": "code",
      "source": [
        "#Cartesian\n",
        "rdd_a = sc.parallelize([\"Big\", \"Data\"])\n",
        "rdd_b = sc.parallelize(range(1,16))\n",
        "\n",
        "rdd_c = rdd_a.cartesian(rdd_b)\n",
        "\n",
        "rdd_c.take(30)"
      ],
      "metadata": {
        "id": "VMr-hN8AgzPF"
      },
      "execution_count": null,
      "outputs": []
    },
    {
      "cell_type": "code",
      "source": [
        "#salvar txt\n",
        "rdd_brasil.saveAsTextFile(\"brasil.csv\")"
      ],
      "metadata": {
        "id": "tz-B6M-siF-y"
      },
      "execution_count": 84,
      "outputs": []
    },
    {
      "cell_type": "code",
      "source": [
        "!rm -rf brasil.csv"
      ],
      "metadata": {
        "id": "3APnDDg4lOuD"
      },
      "execution_count": 89,
      "outputs": []
    },
    {
      "cell_type": "code",
      "source": [
        "#coalesce\n",
        "rdd_brasil.coalesce(1).saveAsTextFile(\"brasil.csv\")"
      ],
      "metadata": {
        "id": "cQrCEEV8k0bZ"
      },
      "execution_count": 90,
      "outputs": []
    }
  ]
}